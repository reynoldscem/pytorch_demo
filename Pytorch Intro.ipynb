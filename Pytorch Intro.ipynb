{
 "cells": [
  {
   "cell_type": "code",
   "execution_count": 1,
   "metadata": {
    "collapsed": false
   },
   "outputs": [],
   "source": [
    "import torch\n",
    "from torch import nn\n",
    "import torch.optim as optim\n",
    "import torch.nn.functional as F\n",
    "\n",
    "# Extend nn.Module, and implement/overwrite some methods.\n",
    "# Namely, write a constructor and a .forward() method.\n",
    "class Model(nn.Module):\n",
    "    \n",
    "    # Can take any args you want\n",
    "    # This defines the structure and attributes of the network.\n",
    "    # The actual control flow comes later.\n",
    "    def __init__(self):\n",
    "        super(Model, self).__init__()\n",
    "        \n",
    "        self.n_inputs = 784\n",
    "        self.hidden_dim = 50\n",
    "        self.n_middle_layers = 10\n",
    "        self.output_dim = 10\n",
    "        self.first_layer = nn.Linear(self.n_inputs, self.hidden_dim)\n",
    "        self.middle_layers = [\n",
    "            nn.Linear(self.hidden_dim, self.hidden_dim)\n",
    "            for _ in range(self.n_middle_layers)\n",
    "        ]\n",
    "        \n",
    "        # If your layers are not stored directly as an attribute you\n",
    "        # MUST add them as submodules or pass the optimiser their\n",
    "        # parameters directly.\n",
    "        for layer_index, layer in enumerate(self.middle_layers):\n",
    "            self.add_module('middle_{}'.format(layer_index), layer)\n",
    "        self.output_layer = nn.Linear(self.hidden_dim, self.output_dim)\n",
    "        \n",
    "        norm_dim = -1\n",
    "        self.logprobs = nn.LogSoftmax(dim=norm_dim)\n",
    "    \n",
    "    # This takes your input to your output.\n",
    "    def forward(self, x, verbose=False):\n",
    "        import random\n",
    "        \n",
    "        # This is like reshape without copy.\n",
    "        # -1 means compute the remaining dims automatically.\n",
    "        if verbose:\n",
    "            print(x.size())\n",
    "        x = x.view(-1, self.n_inputs)\n",
    "        if verbose:\n",
    "            print(x.size())\n",
    "        \n",
    "        # The functional API is used typically for 'layers' which\n",
    "        # don't have parameters. e.g. things like ReLU.\n",
    "        first_act = F.relu(self.first_layer(x))\n",
    "        \n",
    "        representation = first_act\n",
    "        \n",
    "        # Because torch is dynamic, we can determine the\n",
    "        # order of computation at runtime.\n",
    "        # Here we'll randomly propogate through the first 1 or more\n",
    "        # 'middle' layers.\n",
    "        layers_this_run = self.middle_layers[\n",
    "            :random.randint(1, self.n_middle_layers)\n",
    "        ]\n",
    "        for index, layer in enumerate(layers_this_run):\n",
    "            if verbose:\n",
    "                print('Fprop with middle layer {}'.format(index))\n",
    "            representation = F.relu(layer(representation))\n",
    "            \n",
    "        return self.logprobs(self.output_layer(representation))\n",
    "\n",
    "# There is a newer way of doing this.\n",
    "# But I have not got used to it yet.\n",
    "use_cuda = torch.cuda.is_available()\n",
    "\n",
    "model = Model()\n",
    "if use_cuda:\n",
    "    model = model.cuda()"
   ]
  },
  {
   "cell_type": "code",
   "execution_count": 2,
   "metadata": {
    "collapsed": false
   },
   "outputs": [
    {
     "name": "stdout",
     "output_type": "stream",
     "text": [
      "[ 0.00684534 -0.85643491  0.612418   -0.60902663  0.28375679]\n",
      "Types matter! torch.float by default usually.\n",
      "Expected object of type torch.FloatTensor but found type torch.DoubleTensor for argument #3 'other'\n",
      "tensor([ 1.0068,  0.1436,  1.6124,  0.3910,  1.2838])\n"
     ]
    }
   ],
   "source": [
    "# Numpy-like methods for array creation.\n",
    "dummy_pattern = torch.zeros(784)\n",
    "\n",
    "# arithmetic operations as you'd expect\n",
    "dummy_pattern = dummy_pattern + torch.ones(784)\n",
    "\n",
    "# cast numpy to torch tensor\n",
    "import numpy as np\n",
    "numpy_vector = np.random.randn(784)\n",
    "print(numpy_vector[:5])\n",
    "\n",
    "try:\n",
    "    dummy_pattern = dummy_pattern - torch.tensor(numpy_vector)\n",
    "except RuntimeError as e:\n",
    "    print('Types matter! torch.float by default usually.')\n",
    "    print(e)\n",
    "finally:\n",
    "    dummy_pattern = dummy_pattern + torch.tensor(numpy_vector, dtype=torch.float)\n",
    "print(dummy_pattern[:5])\n",
    "\n",
    "if use_cuda:\n",
    "    dummy_pattern = dummy_pattern.cuda()"
   ]
  },
  {
   "cell_type": "code",
   "execution_count": 3,
   "metadata": {
    "collapsed": false
   },
   "outputs": [
    {
     "name": "stdout",
     "output_type": "stream",
     "text": [
      "torch.Size([784])\n",
      "torch.Size([1, 784])\n",
      "Fprop with middle layer 0\n",
      "\n",
      "torch.Size([784])\n",
      "torch.Size([1, 784])\n",
      "Fprop with middle layer 0\n",
      "Fprop with middle layer 1\n",
      "Fprop with middle layer 2\n",
      "Fprop with middle layer 3\n",
      "Fprop with middle layer 4\n",
      "\n",
      "torch.Size([784])\n",
      "torch.Size([1, 784])\n",
      "Fprop with middle layer 0\n",
      "Fprop with middle layer 1\n",
      "Fprop with middle layer 2\n",
      "Fprop with middle layer 3\n",
      "Fprop with middle layer 4\n",
      "Fprop with middle layer 5\n",
      "\n",
      "torch.Size([784])\n",
      "torch.Size([1, 784])\n",
      "Fprop with middle layer 0\n",
      "Fprop with middle layer 1\n",
      "Fprop with middle layer 2\n",
      "Fprop with middle layer 3\n",
      "\n",
      "torch.Size([784])\n",
      "torch.Size([1, 784])\n",
      "Fprop with middle layer 0\n",
      "Fprop with middle layer 1\n",
      "Fprop with middle layer 2\n",
      "\n",
      "tensor([[-2.4169, -2.2400, -2.1977, -2.2712, -2.3733, -2.1947, -2.4059,\n",
      "         -2.3388, -2.2289, -2.3941]])\n"
     ]
    }
   ],
   "source": [
    "for _ in range(5):\n",
    "    dummy_out = model(dummy_pattern, verbose=True)\n",
    "    print()\n",
    "print(dummy_out)"
   ]
  },
  {
   "cell_type": "code",
   "execution_count": 4,
   "metadata": {
    "collapsed": false
   },
   "outputs": [],
   "source": [
    "# Torchvision has a bunch of nice handlers for loader and transforming data.\n",
    "# But you don't have to use them, and can write your own.\n",
    "from torchvision import datasets, transforms\n",
    "import os\n",
    "\n",
    "# I don't fully understand this, but it can improve performance\n",
    "# to mess with the settings... Should look it up really.\n",
    "kwargs = {'num_workers': 1, 'pin_memory': True} if use_cuda else {}\n",
    "\n",
    "data_norm = transforms.Compose([\n",
    "    transforms.ToTensor(),\n",
    "    transforms.Normalize((0.1307,), (0.3081,))\n",
    "])\n",
    "data_path = os.path.join(os.getcwd(), 'data')\n",
    "if not os.path.isdir(data_path):\n",
    "    os.makedirs(data_path)\n",
    "loader = torch.utils.data.DataLoader(\n",
    "    datasets.MNIST(\n",
    "        data_path, train=True, download=True,\n",
    "        transform=data_norm\n",
    "    ),\n",
    "    batch_size=60, shuffle=True, **kwargs\n",
    ")"
   ]
  },
  {
   "cell_type": "code",
   "execution_count": 5,
   "metadata": {
    "collapsed": false
   },
   "outputs": [],
   "source": [
    "# Your model has already inherited .parameters from nn.Module\n",
    "# This gets all the adaptive parameters of any attributes of the model,\n",
    "# or modules which have been added manually. Make sure your model is\n",
    "# exposing everything with adaptive parameters! (Unless you're sure)\n",
    "optimiser = optim.SGD(model.parameters(), lr=0.01, momentum=0.9)"
   ]
  },
  {
   "cell_type": "code",
   "execution_count": 6,
   "metadata": {
    "collapsed": false,
    "scrolled": false
   },
   "outputs": [],
   "source": [
    "losses = []\n",
    "for epoch in range(3):\n",
    "    for index, (data, target) in enumerate(loader, 1):\n",
    "        # Again there's a newer way to do this...\n",
    "        # But this still works.\n",
    "        if use_cuda:\n",
    "            data, target = data.cuda(), target.cuda()\n",
    "\n",
    "        # This is important! By default, gradients ACCUMULATE in buffers.\n",
    "        # This can be useful in many situations, but is counter-intuitive to\n",
    "        # start with. .zero_grad() zeroes these buffers out.\n",
    "        optimiser.zero_grad()\n",
    "\n",
    "        output = model(data, verbose=False)\n",
    "\n",
    "        loss = F.nll_loss(output, target)\n",
    "\n",
    "        # Compute derivatives of loss\n",
    "        loss.backward()\n",
    "\n",
    "        # Update model parameters using what's in the gradient buffers\n",
    "        optimiser.step()\n",
    "\n",
    "        # Actually compute the loss value\n",
    "        loss_value = loss.item()\n",
    "        losses.append(loss_value)"
   ]
  },
  {
   "cell_type": "code",
   "execution_count": 7,
   "metadata": {
    "collapsed": false
   },
   "outputs": [
    {
     "data": {
      "text/plain": [
       "[<matplotlib.lines.Line2D at 0x116d7be48>]"
      ]
     },
     "execution_count": 7,
     "metadata": {},
     "output_type": "execute_result"
    },
    {
     "data": {
      "image/png": "[encoded data removed]",
      "text/plain": [
       "<matplotlib.figure.Figure at 0x10e62af98>"
      ]
     },
     "metadata": {},
     "output_type": "display_data"
    }
   ],
   "source": [
    "from matplotlib import pyplot as plt\n",
    "% matplotlib inline\n",
    "plt.plot(losses)"
   ]
  },
  {
   "cell_type": "code",
   "execution_count": null,
   "metadata": {
    "collapsed": true
   },
   "outputs": [],
   "source": []
  }
 ],
 "metadata": {
  "kernelspec": {
   "display_name": "pytorch",
   "language": "python",
   "name": "pytorch"
  },
  "language_info": {
   "codemirror_mode": {
    "name": "ipython",
    "version": 3
   },
   "file_extension": ".py",
   "mimetype": "text/x-python",
   "name": "python",
   "nbconvert_exporter": "python",
   "pygments_lexer": "ipython3",
   "version": "3.6.3"
  }
 },
 "nbformat": 4,
 "nbformat_minor": 0
}
